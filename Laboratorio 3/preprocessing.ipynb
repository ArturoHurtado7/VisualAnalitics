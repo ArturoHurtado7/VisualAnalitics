{
 "cells": [
  {
   "cell_type": "markdown",
   "metadata": {},
   "source": [
    "### Importación de librerías"
   ]
  },
  {
   "cell_type": "code",
   "execution_count": 1,
   "metadata": {},
   "outputs": [],
   "source": [
    "import pandas as pd\n",
    "import numpy as np"
   ]
  },
  {
   "cell_type": "markdown",
   "metadata": {},
   "source": [
    "# Exploración de los datos y preprocesamiento\n",
    "\n",
    "Se importa el dataset y se realiza una exploración de los datos.\n",
    "\n",
    "fuente: https://raw.githubusercontent.com/vega/vega-datasets/next/data/movies.json\n",
    "\n",
    "tener en cuenta:\n",
    "\n",
    "* https://vega.github.io/vega-lite/examples/\n",
    "* https://vega.github.io/vega-lite/docs/layer.html\n",
    "* https://vega.github.io/vega-lite/docs/parameter.html"
   ]
  },
  {
   "cell_type": "code",
   "execution_count": 24,
   "metadata": {},
   "outputs": [],
   "source": [
    "def get_income(movie):\n",
    "    income = 0\n",
    "    if movie['Worldwide Gross'] > 0:\n",
    "        income += movie['Worldwide Gross']\n",
    "    if movie['US Gross'] > 0:\n",
    "        income += movie['US Gross']\n",
    "    if movie['US DVD Sales'] > 0:\n",
    "        income += movie['US DVD Sales']\n",
    "    return income"
   ]
  },
  {
   "cell_type": "code",
   "execution_count": 48,
   "metadata": {},
   "outputs": [
    {
     "data": {
      "text/html": [
       "<div>\n",
       "<style scoped>\n",
       "    .dataframe tbody tr th:only-of-type {\n",
       "        vertical-align: middle;\n",
       "    }\n",
       "\n",
       "    .dataframe tbody tr th {\n",
       "        vertical-align: top;\n",
       "    }\n",
       "\n",
       "    .dataframe thead th {\n",
       "        text-align: right;\n",
       "    }\n",
       "</style>\n",
       "<table border=\"1\" class=\"dataframe\">\n",
       "  <thead>\n",
       "    <tr style=\"text-align: right;\">\n",
       "      <th></th>\n",
       "      <th>Title</th>\n",
       "      <th>US Gross</th>\n",
       "      <th>Worldwide Gross</th>\n",
       "      <th>US DVD Sales</th>\n",
       "      <th>Production Budget</th>\n",
       "      <th>Release Date</th>\n",
       "      <th>MPAA Rating</th>\n",
       "      <th>Running Time min</th>\n",
       "      <th>Distributor</th>\n",
       "      <th>Source</th>\n",
       "      <th>Major Genre</th>\n",
       "      <th>Creative Type</th>\n",
       "      <th>Director</th>\n",
       "      <th>Rotten Tomatoes Rating</th>\n",
       "      <th>IMDB Rating</th>\n",
       "      <th>IMDB Votes</th>\n",
       "      <th>income</th>\n",
       "      <th>profit</th>\n",
       "    </tr>\n",
       "  </thead>\n",
       "  <tbody>\n",
       "    <tr>\n",
       "      <th>0</th>\n",
       "      <td>The Land Girls</td>\n",
       "      <td>146083.0</td>\n",
       "      <td>146083.0</td>\n",
       "      <td>NaN</td>\n",
       "      <td>8000000.0</td>\n",
       "      <td>1998-06-12</td>\n",
       "      <td>R</td>\n",
       "      <td>NaN</td>\n",
       "      <td>Gramercy</td>\n",
       "      <td>None</td>\n",
       "      <td>None</td>\n",
       "      <td>None</td>\n",
       "      <td>None</td>\n",
       "      <td>NaN</td>\n",
       "      <td>6.1</td>\n",
       "      <td>1071.0</td>\n",
       "      <td>292166.0</td>\n",
       "      <td>-7707834.0</td>\n",
       "    </tr>\n",
       "    <tr>\n",
       "      <th>1</th>\n",
       "      <td>First Love, Last Rites</td>\n",
       "      <td>10876.0</td>\n",
       "      <td>10876.0</td>\n",
       "      <td>NaN</td>\n",
       "      <td>300000.0</td>\n",
       "      <td>1998-08-07</td>\n",
       "      <td>R</td>\n",
       "      <td>NaN</td>\n",
       "      <td>Strand</td>\n",
       "      <td>None</td>\n",
       "      <td>Drama</td>\n",
       "      <td>None</td>\n",
       "      <td>None</td>\n",
       "      <td>NaN</td>\n",
       "      <td>6.9</td>\n",
       "      <td>207.0</td>\n",
       "      <td>21752.0</td>\n",
       "      <td>-278248.0</td>\n",
       "    </tr>\n",
       "    <tr>\n",
       "      <th>2</th>\n",
       "      <td>I Married a Strange Person</td>\n",
       "      <td>203134.0</td>\n",
       "      <td>203134.0</td>\n",
       "      <td>NaN</td>\n",
       "      <td>250000.0</td>\n",
       "      <td>1998-08-28</td>\n",
       "      <td>None</td>\n",
       "      <td>NaN</td>\n",
       "      <td>Lionsgate</td>\n",
       "      <td>None</td>\n",
       "      <td>Comedy</td>\n",
       "      <td>None</td>\n",
       "      <td>None</td>\n",
       "      <td>NaN</td>\n",
       "      <td>6.8</td>\n",
       "      <td>865.0</td>\n",
       "      <td>406268.0</td>\n",
       "      <td>156268.0</td>\n",
       "    </tr>\n",
       "    <tr>\n",
       "      <th>3</th>\n",
       "      <td>Let's Talk About Sex</td>\n",
       "      <td>373615.0</td>\n",
       "      <td>373615.0</td>\n",
       "      <td>NaN</td>\n",
       "      <td>300000.0</td>\n",
       "      <td>1998-09-11</td>\n",
       "      <td>None</td>\n",
       "      <td>NaN</td>\n",
       "      <td>Fine Line</td>\n",
       "      <td>None</td>\n",
       "      <td>Comedy</td>\n",
       "      <td>None</td>\n",
       "      <td>None</td>\n",
       "      <td>13.0</td>\n",
       "      <td>NaN</td>\n",
       "      <td>NaN</td>\n",
       "      <td>747230.0</td>\n",
       "      <td>447230.0</td>\n",
       "    </tr>\n",
       "    <tr>\n",
       "      <th>4</th>\n",
       "      <td>Slam</td>\n",
       "      <td>1009819.0</td>\n",
       "      <td>1087521.0</td>\n",
       "      <td>NaN</td>\n",
       "      <td>1000000.0</td>\n",
       "      <td>1998-10-09</td>\n",
       "      <td>R</td>\n",
       "      <td>NaN</td>\n",
       "      <td>Trimark</td>\n",
       "      <td>Original Screenplay</td>\n",
       "      <td>Drama</td>\n",
       "      <td>Contemporary Fiction</td>\n",
       "      <td>None</td>\n",
       "      <td>62.0</td>\n",
       "      <td>3.4</td>\n",
       "      <td>165.0</td>\n",
       "      <td>2097340.0</td>\n",
       "      <td>1097340.0</td>\n",
       "    </tr>\n",
       "  </tbody>\n",
       "</table>\n",
       "</div>"
      ],
      "text/plain": [
       "                        Title   US Gross  Worldwide Gross  US DVD Sales  \\\n",
       "0              The Land Girls   146083.0         146083.0           NaN   \n",
       "1      First Love, Last Rites    10876.0          10876.0           NaN   \n",
       "2  I Married a Strange Person   203134.0         203134.0           NaN   \n",
       "3        Let's Talk About Sex   373615.0         373615.0           NaN   \n",
       "4                        Slam  1009819.0        1087521.0           NaN   \n",
       "\n",
       "   Production Budget Release Date MPAA Rating  Running Time min Distributor  \\\n",
       "0          8000000.0   1998-06-12           R               NaN    Gramercy   \n",
       "1           300000.0   1998-08-07           R               NaN      Strand   \n",
       "2           250000.0   1998-08-28        None               NaN   Lionsgate   \n",
       "3           300000.0   1998-09-11        None               NaN   Fine Line   \n",
       "4          1000000.0   1998-10-09           R               NaN     Trimark   \n",
       "\n",
       "                Source Major Genre         Creative Type Director  \\\n",
       "0                 None        None                  None     None   \n",
       "1                 None       Drama                  None     None   \n",
       "2                 None      Comedy                  None     None   \n",
       "3                 None      Comedy                  None     None   \n",
       "4  Original Screenplay       Drama  Contemporary Fiction     None   \n",
       "\n",
       "   Rotten Tomatoes Rating  IMDB Rating  IMDB Votes     income     profit  \n",
       "0                     NaN          6.1      1071.0   292166.0 -7707834.0  \n",
       "1                     NaN          6.9       207.0    21752.0  -278248.0  \n",
       "2                     NaN          6.8       865.0   406268.0   156268.0  \n",
       "3                    13.0          NaN         NaN   747230.0   447230.0  \n",
       "4                    62.0          3.4       165.0  2097340.0  1097340.0  "
      ]
     },
     "execution_count": 48,
     "metadata": {},
     "output_type": "execute_result"
    }
   ],
   "source": [
    "movies = pd.read_json('movies.json')\n",
    "movies['income'] = movies.apply(get_income, axis=1)\n",
    "movies['profit'] = movies['income'] - movies['Production Budget']\n",
    "movies['Release Date'] = pd.to_datetime(movies['Release Date'])\n",
    "\n",
    "movies.head()"
   ]
  },
  {
   "cell_type": "code",
   "execution_count": 79,
   "metadata": {},
   "outputs": [
    {
     "name": "stderr",
     "output_type": "stream",
     "text": [
      "C:\\Users\\Usuario\\AppData\\Local\\Temp\\ipykernel_36792\\3270355399.py:3: SettingWithCopyWarning: \n",
      "A value is trying to be set on a copy of a slice from a DataFrame\n",
      "\n",
      "See the caveats in the documentation: https://pandas.pydata.org/pandas-docs/stable/user_guide/indexing.html#returning-a-view-versus-a-copy\n",
      "  movies_filter.genre.fillna('Unknown', inplace=True)\n",
      "C:\\Users\\Usuario\\AppData\\Local\\Temp\\ipykernel_36792\\3270355399.py:4: SettingWithCopyWarning: \n",
      "A value is trying to be set on a copy of a slice from a DataFrame\n",
      "\n",
      "See the caveats in the documentation: https://pandas.pydata.org/pandas-docs/stable/user_guide/indexing.html#returning-a-view-versus-a-copy\n",
      "  movies_filter.fillna(0, inplace=True)\n"
     ]
    },
    {
     "data": {
      "text/html": [
       "<div>\n",
       "<style scoped>\n",
       "    .dataframe tbody tr th:only-of-type {\n",
       "        vertical-align: middle;\n",
       "    }\n",
       "\n",
       "    .dataframe tbody tr th {\n",
       "        vertical-align: top;\n",
       "    }\n",
       "\n",
       "    .dataframe thead th {\n",
       "        text-align: right;\n",
       "    }\n",
       "</style>\n",
       "<table border=\"1\" class=\"dataframe\">\n",
       "  <thead>\n",
       "    <tr style=\"text-align: right;\">\n",
       "      <th></th>\n",
       "      <th>title</th>\n",
       "      <th>release</th>\n",
       "      <th>genre</th>\n",
       "      <th>budget</th>\n",
       "      <th>income</th>\n",
       "      <th>profit</th>\n",
       "    </tr>\n",
       "  </thead>\n",
       "  <tbody>\n",
       "    <tr>\n",
       "      <th>0</th>\n",
       "      <td>The Land Girls</td>\n",
       "      <td>1998-06-12</td>\n",
       "      <td>Unknown</td>\n",
       "      <td>8000000</td>\n",
       "      <td>292166</td>\n",
       "      <td>-7707834</td>\n",
       "    </tr>\n",
       "    <tr>\n",
       "      <th>1</th>\n",
       "      <td>First Love, Last Rites</td>\n",
       "      <td>1998-08-07</td>\n",
       "      <td>Drama</td>\n",
       "      <td>300000</td>\n",
       "      <td>21752</td>\n",
       "      <td>-278248</td>\n",
       "    </tr>\n",
       "    <tr>\n",
       "      <th>2</th>\n",
       "      <td>I Married a Strange Person</td>\n",
       "      <td>1998-08-28</td>\n",
       "      <td>Comedy</td>\n",
       "      <td>250000</td>\n",
       "      <td>406268</td>\n",
       "      <td>156268</td>\n",
       "    </tr>\n",
       "    <tr>\n",
       "      <th>3</th>\n",
       "      <td>Let's Talk About Sex</td>\n",
       "      <td>1998-09-11</td>\n",
       "      <td>Comedy</td>\n",
       "      <td>300000</td>\n",
       "      <td>747230</td>\n",
       "      <td>447230</td>\n",
       "    </tr>\n",
       "    <tr>\n",
       "      <th>4</th>\n",
       "      <td>Slam</td>\n",
       "      <td>1998-10-09</td>\n",
       "      <td>Drama</td>\n",
       "      <td>1000000</td>\n",
       "      <td>2097340</td>\n",
       "      <td>1097340</td>\n",
       "    </tr>\n",
       "  </tbody>\n",
       "</table>\n",
       "</div>"
      ],
      "text/plain": [
       "                        title     release    genre   budget   income   profit\n",
       "0              The Land Girls  1998-06-12  Unknown  8000000   292166 -7707834\n",
       "1      First Love, Last Rites  1998-08-07    Drama   300000    21752  -278248\n",
       "2  I Married a Strange Person  1998-08-28   Comedy   250000   406268   156268\n",
       "3        Let's Talk About Sex  1998-09-11   Comedy   300000   747230   447230\n",
       "4                        Slam  1998-10-09    Drama  1000000  2097340  1097340"
      ]
     },
     "execution_count": 79,
     "metadata": {},
     "output_type": "execute_result"
    }
   ],
   "source": [
    "movies_filter = movies[['Title', 'Release Date', 'Major Genre', 'Production Budget', 'income', 'profit']]\n",
    "movies_filter.columns = ['title', 'release', 'genre', 'budget', 'income', 'profit']\n",
    "movies_filter.genre.fillna('Unknown', inplace=True)\n",
    "movies_filter.fillna(0, inplace=True)\n",
    "movies_filter = movies_filter.astype({'release': 'string', 'budget': 'int64', 'income': 'int64', 'profit': 'int64'})\n",
    "movies_filter.head()"
   ]
  },
  {
   "cell_type": "code",
   "execution_count": 82,
   "metadata": {},
   "outputs": [
    {
     "name": "stdout",
     "output_type": "stream",
     "text": [
      "(3149, 6)\n"
     ]
    },
    {
     "data": {
      "text/plain": [
       "<AxesSubplot:>"
      ]
     },
     "execution_count": 82,
     "metadata": {},
     "output_type": "execute_result"
    },
    {
     "data": {
      "image/png": "[encoded data removed]",
      "text/plain": [
       "<Figure size 432x288 with 1 Axes>"
      ]
     },
     "metadata": {
      "needs_background": "light"
     },
     "output_type": "display_data"
    }
   ],
   "source": [
    "movies_filter = movies_filter[(movies_filter.income > 0) & (movies_filter.budget > 0)]\n",
    "print(movies_filter.shape)\n",
    "movies_filter.profit.hist(bins=100)"
   ]
  },
  {
   "cell_type": "code",
   "execution_count": 81,
   "metadata": {},
   "outputs": [],
   "source": [
    "movies_filter.to_json('movies_filter.json', orient='records')"
   ]
  },
  {
   "cell_type": "markdown",
   "metadata": {},
   "source": [
    "# Categorias:\n",
    "\n",
    "Datos generales:\n",
    "- Title\n",
    "- Director\n",
    "- Release Date\n",
    "- Running Time min\n",
    "- Distributor\n",
    "\n",
    "Genero:\n",
    "- Source\n",
    "- MPAA Rating\n",
    "- Major Genre\n",
    "- Creative Type\n",
    "\n",
    "Percepcion:\n",
    "- Rotten Tomatoes Rating\n",
    "- IMDB Rating\n",
    "- IMDB Votes\n",
    "\n",
    "Ingresos:\n",
    "- US Gross\n",
    "- Worldwide Gross\n",
    "- US DVD Sales\n",
    "\n",
    "Presupuesto:\n",
    "- Production Budget\n",
    "\n"
   ]
  },
  {
   "cell_type": "code",
   "execution_count": null,
   "metadata": {},
   "outputs": [],
   "source": [
    "movies.shape"
   ]
  },
  {
   "cell_type": "code",
   "execution_count": null,
   "metadata": {},
   "outputs": [],
   "source": [
    "movies['Release Date'] = pd.to_datetime(movies['Release Date'], infer_datetime_format=True)\n",
    "print(movies['Release Date'].isna().sum())\n",
    "movies['Release Date'].dt.year.hist()"
   ]
  },
  {
   "cell_type": "code",
   "execution_count": null,
   "metadata": {},
   "outputs": [],
   "source": [
    "print(movies['Rotten Tomatoes Rating'].isna().sum())\n",
    "movies['Rotten Tomatoes Rating'].hist(bins=20)"
   ]
  },
  {
   "cell_type": "code",
   "execution_count": null,
   "metadata": {},
   "outputs": [],
   "source": [
    "print(movies['IMDB Rating'].isna().sum())\n",
    "movies['IMDB Rating'].hist(bins=20)"
   ]
  },
  {
   "cell_type": "code",
   "execution_count": null,
   "metadata": {},
   "outputs": [],
   "source": [
    "print(movies['MPAA Rating'].isna().sum())\n",
    "movies['MPAA Rating'].value_counts().plot(kind='bar')"
   ]
  },
  {
   "cell_type": "code",
   "execution_count": null,
   "metadata": {},
   "outputs": [],
   "source": [
    "print('valores nulos: ', movies['Distributor'].isna().sum())\n",
    "distributors = movies['Distributor'].value_counts()\n",
    "print('cantidad de categorias: ', len(distributors))\n",
    "print('maximo', max(distributors))\n",
    "print('minimo', min(distributors))\n",
    "distributors[distributors > 10].plot(kind='bar', figsize=(12, 6))"
   ]
  },
  {
   "cell_type": "code",
   "execution_count": null,
   "metadata": {},
   "outputs": [],
   "source": [
    "serie = movies['Source'].value_counts()\n",
    "print('valores nulos: ', movies['Source'].isna().sum())\n",
    "print('cantidad de categorias: ', len(serie))\n",
    "serie.plot(kind='bar', figsize=(12, 6))"
   ]
  },
  {
   "cell_type": "code",
   "execution_count": null,
   "metadata": {},
   "outputs": [],
   "source": [
    "# Major Genre\n",
    "serie = movies['Major Genre'].value_counts()\n",
    "print('valores nulos: ', movies['Major Genre'].isna().sum())\n",
    "print('cantidad de categorias: ', len(serie))\n",
    "serie.plot(kind='bar', figsize=(12, 6))"
   ]
  },
  {
   "cell_type": "code",
   "execution_count": null,
   "metadata": {},
   "outputs": [],
   "source": [
    "# Creative Type\n",
    "serie = movies['Creative Type'].value_counts()\n",
    "print('valores nulos: ', movies['Creative Type'].isna().sum())\n",
    "print('cantidad de categorias: ', len(serie))\n",
    "serie.plot(kind='bar', figsize=(12, 6))"
   ]
  }
 ],
 "metadata": {
  "kernelspec": {
   "display_name": "Python 3.10.5 64-bit",
   "language": "python",
   "name": "python3"
  },
  "language_info": {
   "codemirror_mode": {
    "name": "ipython",
    "version": 3
   },
   "file_extension": ".py",
   "mimetype": "text/x-python",
   "name": "python",
   "nbconvert_exporter": "python",
   "pygments_lexer": "ipython3",
   "version": "3.10.5"
  },
  "orig_nbformat": 4,
  "vscode": {
   "interpreter": {
    "hash": "c63d8c7d738c2960218a10995aedf0a7f67a49a231e71037adf0440953cdb45b"
   }
  }
 },
 "nbformat": 4,
 "nbformat_minor": 2
}
